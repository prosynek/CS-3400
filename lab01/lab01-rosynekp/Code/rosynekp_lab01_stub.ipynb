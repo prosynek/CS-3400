{
 "cells": [
  {
   "cell_type": "markdown",
   "metadata": {},
   "source": [
    "# Lab 01 - Linear Algebra and Numpy\n",
    "\n",
    "Welcome to the first lab in CS3400! If you can edit this you probably have a working instance of jupyter notebook (either locally or on ROSIE). If you are looking at this as an pdf, maybe you still need to get an instance of Jupyter running. Please follow the neccessary steps in Experiment 1."
   ]
  },
  {
   "cell_type": "markdown",
   "metadata": {},
   "source": [
    "# Experiment 1\n",
    "\n",
    "In this experiment you will be making sure that you can connect to ROSIE and run an interactive session (jupyter notebook session).  You will have a username on ROSIE by the start of class, but if it is a new account you may have to reset your password. Ask your instructor for the default password. At the current time, to do this you will have to access the terminal on ROSIE - meaning you will have to ssh in. Once you have reset your password, you will be able to access ROSIE's web portal and initiate interactive session from there. The following steps and sections will give you what you need to start.\n",
    "\n",
    "## Accessing ROSIE\n",
    "An objective of this class is to give you some more experinece using remote resources and ROSIE is a great resource to have. Our current admin is Dr. Retert. Please refer to ROSIE's [webpage](https://msoe.dev/#/) as a first step in finding solutions to issues you may be having. Your instructor is also a good resource if troubleshooting is required.\n",
    "\n",
    "### SSH Client\n",
    "If you are on windows, you will have to download and install an ssh client. A commonly used and free client is [Putty](https://www.putty.org/). Please follow the link and install Putty on your machine.\n",
    "\n",
    "### On network or off\n",
    "If you are doing these steps off-campus, you will need to use a VPN to access the network that ROSIE is on. To do this you can follow the written instruction on [msoe.dev - Activiation](https://msoe.dev/#/access). \n",
    "\n",
    "### Starting an Interactive session\n",
    "Once you have access to ROSIE's network (VPN) and you have a username and current password (done through the SSH client), you can now complete the steps for starting an interactive session. You should access [ROSIE's web portal](http://dh-ood.hpc.msoe.edu/) and start a jupyter notebook session to run (and complete) this notebook."
   ]
  },
  {
   "cell_type": "markdown",
   "metadata": {},
   "source": [
    "# Experiment 2 - Structuing your Data and Feature Matrices / Slicing\n",
    "In this experiment you will refamiliarize yourself with python/numpy and use some of the common data manipulation techniques that you will need for the rest of the class.\n",
    "\n",
    "## What is Numpy?\n",
    "- Matrix library\n",
    "- Memory-efficient data structures -- arrays\n",
    "    - Used in scikit-learn, matplotlib, and others\n",
    "- Expressive API for indexing and operations\n",
    "- Time-efficient algorithms\n",
    "    - Calls C and Fortran libraries where possible\n",
    "    \n",
    "## How Do I Import Libraries into my Jupyter Notebook working kernel?\n",
    "- The following bit of code can be used to import libraries. The world is your oyster!"
   ]
  },
  {
   "cell_type": "code",
   "execution_count": 3,
   "metadata": {},
   "outputs": [],
   "source": [
    "import numpy as np\n",
    "import scipy\n",
    "import scipy.stats as stats\n",
    "import matplotlib.pyplot as plt\n",
    "from IPython.display import Image\n",
    "picturename = '/data/cs3400/misc/mb.gif'\n",
    "datapath = '/data/cs3400/datasets/IRIS.csv'"
   ]
  },
  {
   "cell_type": "markdown",
   "metadata": {},
   "source": [
    "## How to read in files, organize data, and plot some features!\n",
    "In the first step you will read the IRIS.csv file that you are given (which is also on our class's datashare on ROSIE) and put the features into a matrix. In machine learning the standard for organizing matrices is always observations in rows, and features that describe the observations as columns. Read in the data file and assign the data to a numpy matrix.\n",
    "\n",
    "1. Use the function numpy.loadtxt.\n",
    "    - You will want to use the proper delimiter for the file you have.\n",
    "    - Make sure that you skip any text rows, numpy matrices can only be a single datatype.\n",
    "    - Depending on the dataset you may need to specify what columns you want to use.\n",
    "    - If you get stuck and don't want to head to the web, you can always use the the help command for more information e.g. `help(np.loadtext)`\n",
    "\n",
    "With your data matrix you should explore the data a bit.\n",
    "2. Use `data.shape` to find your dimensions\n",
    "3. Plot the first two features your data using matplotlib. Label all of your axes and use legends!\n",
    "    1. Make a figure with a line plot\n",
    "    2. Make another figure with a scatter plot\n",
    "    3. Make a third figure displaying both the same line and scatter plots.\n",
    "4. Print all of the feature values for the 150th observation in your dataset.\n",
    "5. Select observations 49-52 from your dataset and print them to the notebook.\n",
    "6. Select all of the entries in your dataset that have their first feature <= 5 and print the first 5 results. (hint: do this in multiple steps. First make a boolean mask of your matrix)\n",
    "7. Calculate the median, standard deviation, and mode of the entries selected in the previous step. (Hint 1: these should be done column by column. Hint 2: Don't forget about other packages like scipy!)"
   ]
  },
  {
   "cell_type": "markdown",
   "metadata": {},
   "source": [
    "### 1) Load the IRIS.csv file into a numpy matrix"
   ]
  },
  {
   "cell_type": "code",
   "execution_count": null,
   "metadata": {},
   "outputs": [],
   "source": []
  },
  {
   "cell_type": "markdown",
   "metadata": {},
   "source": [
    "### 2) Display its dimensions (`data.shape`)"
   ]
  },
  {
   "cell_type": "code",
   "execution_count": null,
   "metadata": {},
   "outputs": [],
   "source": []
  },
  {
   "cell_type": "markdown",
   "metadata": {},
   "source": [
    "### Plot the first two features of your data using matplotlib. Label all of your axes and use legends!"
   ]
  },
  {
   "cell_type": "markdown",
   "metadata": {},
   "source": [
    "### 3-A) Make a line plot of the first two dimensions using matplotlib"
   ]
  },
  {
   "cell_type": "code",
   "execution_count": null,
   "metadata": {},
   "outputs": [],
   "source": []
  },
  {
   "cell_type": "markdown",
   "metadata": {},
   "source": [
    "### 3-B) Make a scatter plot of the first two dimensions using matplot lib"
   ]
  },
  {
   "cell_type": "code",
   "execution_count": null,
   "metadata": {},
   "outputs": [],
   "source": []
  },
  {
   "cell_type": "markdown",
   "metadata": {},
   "source": [
    "### 3-C) Make a third figure displaying both the same line and scatter plots"
   ]
  },
  {
   "cell_type": "code",
   "execution_count": null,
   "metadata": {},
   "outputs": [],
   "source": []
  },
  {
   "cell_type": "markdown",
   "metadata": {},
   "source": [
    " ### 4) Print all of the feature values for the 150th observation in your dataset."
   ]
  },
  {
   "cell_type": "code",
   "execution_count": null,
   "metadata": {},
   "outputs": [],
   "source": []
  },
  {
   "cell_type": "markdown",
   "metadata": {},
   "source": [
    "### 5) Select observations 49-52 from your dataset and print them to the notebook."
   ]
  },
  {
   "cell_type": "code",
   "execution_count": null,
   "metadata": {},
   "outputs": [],
   "source": []
  },
  {
   "cell_type": "markdown",
   "metadata": {},
   "source": [
    "### 6) Select all of the entries in your dataset that have their first feature <= 5 and print the first 5 results (Hint: Do this in multiple steps. First make a boolean mask of your matrix)"
   ]
  },
  {
   "cell_type": "code",
   "execution_count": null,
   "metadata": {},
   "outputs": [],
   "source": []
  },
  {
   "cell_type": "markdown",
   "metadata": {},
   "source": [
    "### 7) Calculate the median, standard deviation, and mode of the entries selected in the previous step. (Hint 1: these should be done column by column. Hint 2: Don't forget about other packages like scipy!)"
   ]
  },
  {
   "cell_type": "code",
   "execution_count": null,
   "metadata": {},
   "outputs": [],
   "source": []
  },
  {
   "cell_type": "markdown",
   "metadata": {},
   "source": [
    "# Experiment 3 - Linear Algebra in Numpy\n",
    "In this experiment you will be performing a number of linear algebra operations in your jupyter notebook. Check out the linalg module of numpy!\n",
    "\n",
    "We have started by creating a few vectors and matrices for you."
   ]
  },
  {
   "cell_type": "code",
   "execution_count": null,
   "metadata": {},
   "outputs": [],
   "source": [
    "array_1 = np.array([1, 2, 3, 4, 5], dtype=np.float32)\n",
    "print(array_1)\n",
    "array_2 = np.zeros(4, dtype=np.int32)\n",
    "print(array_2)\n",
    "matrix_1 = np.ones((4,5), dtype=np.float64)\n",
    "print(matrix_1)\n",
    "matrix_2 = np.eye(5,5)\n",
    "print(matrix_2)"
   ]
  },
  {
   "cell_type": "markdown",
   "metadata": {},
   "source": [
    "You will:\n",
    "1. Create a few more numpy vectors and matrices\n",
    "2. Print the number of dimensions each of your numpy vectors and matrices\n",
    "3. Print the shape (length and dimension) of each of your numpy vectors and matrices\n",
    "4. Print the datatype used in each of your numpy vectors and matrices\n",
    "5. Try to compute a dot product on two matrices of with disagreeable dimensions\n",
    "6. Compute a dot product on two matrices with agreeable dimensions\n",
    "7. Try to compute element-wise addition on two matrices with disagreeable dimensions\n",
    "8. Compute an element-wise addition on two matrices with agreeable dimensions\n",
    "9. Compute the norm (distance) between a vector and itself\n",
    "10. Compute the norm (distance) between two different vectors\n",
    "11. Apply a set of linear coefficients to a matrix of observations."
   ]
  },
  {
   "cell_type": "markdown",
   "metadata": {},
   "source": [
    "### 1) Create numpy vectors and matrices (we have done a few for you)"
   ]
  },
  {
   "cell_type": "code",
   "execution_count": null,
   "metadata": {},
   "outputs": [],
   "source": []
  },
  {
   "cell_type": "markdown",
   "metadata": {},
   "source": [
    "### 2) Print the number of dimensions each of your numpy vectors and matrices"
   ]
  },
  {
   "cell_type": "code",
   "execution_count": null,
   "metadata": {},
   "outputs": [],
   "source": []
  },
  {
   "cell_type": "markdown",
   "metadata": {},
   "source": [
    "### 3. Print the sahpe (length and dimension) of each of your numpy vectors and matrices"
   ]
  },
  {
   "cell_type": "code",
   "execution_count": null,
   "metadata": {},
   "outputs": [],
   "source": []
  },
  {
   "cell_type": "markdown",
   "metadata": {},
   "source": [
    "### 4) Print the datatype used in each of your numpy vectors and matrices"
   ]
  },
  {
   "cell_type": "code",
   "execution_count": null,
   "metadata": {},
   "outputs": [],
   "source": []
  },
  {
   "cell_type": "markdown",
   "metadata": {},
   "source": [
    "### 5) Try to compute a dot product on two matrices of with disagreeable dimensions"
   ]
  },
  {
   "cell_type": "code",
   "execution_count": null,
   "metadata": {},
   "outputs": [],
   "source": []
  },
  {
   "cell_type": "markdown",
   "metadata": {},
   "source": [
    "### 6) Compute a dot product on two matrices with agreeable dimensions"
   ]
  },
  {
   "cell_type": "code",
   "execution_count": null,
   "metadata": {},
   "outputs": [],
   "source": []
  },
  {
   "cell_type": "markdown",
   "metadata": {},
   "source": [
    "### 7) Try to compute element-wise addition on two matrices with disagreeable dimensions"
   ]
  },
  {
   "cell_type": "code",
   "execution_count": null,
   "metadata": {},
   "outputs": [],
   "source": []
  },
  {
   "cell_type": "markdown",
   "metadata": {},
   "source": [
    "### 8) Compute an element-wise addition on two matrices with agreeable dimensions"
   ]
  },
  {
   "cell_type": "code",
   "execution_count": null,
   "metadata": {},
   "outputs": [],
   "source": []
  },
  {
   "cell_type": "markdown",
   "metadata": {},
   "source": [
    "### 9) Compute the norm (distance) between a vector and itself"
   ]
  },
  {
   "cell_type": "code",
   "execution_count": null,
   "metadata": {},
   "outputs": [],
   "source": []
  },
  {
   "cell_type": "markdown",
   "metadata": {},
   "source": [
    "### 10) Compute the norm (distance) between two different vectors"
   ]
  },
  {
   "cell_type": "code",
   "execution_count": null,
   "metadata": {},
   "outputs": [],
   "source": []
  },
  {
   "cell_type": "markdown",
   "metadata": {},
   "source": [
    "### 11) Apply a set of linear coefficients to a matrix of observations.\n",
    "From your problem set you can see the form of this model:\n",
    "\n",
    "$$ y = \\beta^{12}_{0} + \\beta_{1}x_{1} + \\beta_{2}x_{2} + \\beta_{3}x_{3} $$\n",
    "\n",
    "which can also be represented in vector notation as:\n",
    "\n",
    "$$ y = x^{T}\\mathbf{\\beta} $$\n",
    "\n",
    "Use the vectors that you created in problem 5 of problem set 1 and evaluate it here. Evaluate it twice, once using matrix multiplication and once with dot products"
   ]
  },
  {
   "cell_type": "code",
   "execution_count": null,
   "metadata": {},
   "outputs": [],
   "source": []
  },
  {
   "cell_type": "markdown",
   "metadata": {},
   "source": [
    "# Bonus Material: Additional Indexing Topics"
   ]
  },
  {
   "cell_type": "markdown",
   "metadata": {},
   "source": [
    "Before considering the following indexing procedures, think about the following question. Can I index a vector (nx1) using a matrix (nxm)? What would happen if I try?"
   ]
  },
  {
   "cell_type": "code",
   "execution_count": null,
   "metadata": {},
   "outputs": [],
   "source": [
    "X = np.random.randint(10, size=(10, 3)) \n",
    "y = np.expand_dims(np.array([1, 0, 1, 1, 0, 0, 2, 2, 1, 0], dtype=np.int32),axis=1)"
   ]
  },
  {
   "cell_type": "markdown",
   "metadata": {},
   "source": [
    "Think of the above matrix, X, as a feature matrix (10x3) and the above vector, y, as a response vector/matrix (10x1). How can I index and get the first index of X or y? "
   ]
  },
  {
   "cell_type": "code",
   "execution_count": null,
   "metadata": {},
   "outputs": [],
   "source": [
    "y[0,0]"
   ]
  },
  {
   "cell_type": "code",
   "execution_count": null,
   "metadata": {},
   "outputs": [],
   "source": [
    "X[0,0]"
   ]
  },
  {
   "cell_type": "markdown",
   "metadata": {},
   "source": [
    "What if I want multiple elements from this array that are not sequential? Such as element 0 and element 7?"
   ]
  },
  {
   "cell_type": "code",
   "execution_count": null,
   "metadata": {},
   "outputs": [],
   "source": [
    "print(y[0,0])\n",
    "print(y[7,0])"
   ]
  },
  {
   "cell_type": "markdown",
   "metadata": {},
   "source": [
    "Pretty straighforward, eh? Can I do this in one go?"
   ]
  },
  {
   "cell_type": "code",
   "execution_count": null,
   "metadata": {},
   "outputs": [],
   "source": [
    "print(y[[0,7],[0,0]])"
   ]
  },
  {
   "cell_type": "markdown",
   "metadata": {},
   "source": [
    "Not too shabby! Now, is there anything preventing me from re-indexing the same element? Let's try!"
   ]
  },
  {
   "cell_type": "code",
   "execution_count": null,
   "metadata": {},
   "outputs": [],
   "source": [
    "print(y[[7,7],[0,0]])"
   ]
  },
  {
   "cell_type": "markdown",
   "metadata": {},
   "source": [
    "__woah__"
   ]
  },
  {
   "cell_type": "markdown",
   "metadata": {},
   "source": [
    "Finally, lets take this to a rediculous conclusion... What happens if I supply more index calls (as a matrix) than the variable has in shape?"
   ]
  },
  {
   "cell_type": "code",
   "execution_count": null,
   "metadata": {},
   "outputs": [],
   "source": [
    "print(y[[7,7,7,7,7,7,7,7,7,7,7,7,7,7,7,7,7],[0,0,0,0,0,0,0,0,0,0,0,0,0,0,0,0,0]])"
   ]
  },
  {
   "cell_type": "code",
   "execution_count": null,
   "metadata": {},
   "outputs": [],
   "source": [
    "Image(picturename)"
   ]
  }
 ],
 "metadata": {
  "kernelspec": {
   "display_name": "Python 3.9.12 ('base')",
   "language": "python",
   "name": "python3"
  },
  "language_info": {
   "codemirror_mode": {
    "name": "ipython",
    "version": 3
   },
   "file_extension": ".py",
   "mimetype": "text/x-python",
   "name": "python",
   "nbconvert_exporter": "python",
   "pygments_lexer": "ipython3",
   "version": "3.9.12"
  },
  "vscode": {
   "interpreter": {
    "hash": "c842d2fd523c27c6400adebc9f9bcc28cd5d37851831d1d35fc0d336718d7ca2"
   }
  }
 },
 "nbformat": 4,
 "nbformat_minor": 2
}
